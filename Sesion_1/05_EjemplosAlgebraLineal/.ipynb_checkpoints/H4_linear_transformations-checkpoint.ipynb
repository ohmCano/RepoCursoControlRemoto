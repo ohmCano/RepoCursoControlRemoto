{
 "cells": [
  {
   "cell_type": "markdown",
   "metadata": {},
   "source": [
    "# Function"
   ]
  },
  {
   "cell_type": "markdown",
   "metadata": {
    "collapsed": true
   },
   "source": [
    "A function $f:X\\to Y$ maps an element from the domain $X$ to an associated element in the codomain $Y$.\n",
    "\n",
    "**Range.** Subset of the codomain that the function actually maps to."
   ]
  },
  {
   "cell_type": "markdown",
   "metadata": {},
   "source": [
    "# Linear transformation"
   ]
  },
  {
   "cell_type": "markdown",
   "metadata": {},
   "source": [
    "**Linear transformation.** A function $T$ is a *linear transformation* $\\iff$ the domain and codomain of $T$ are vector spaces and\n",
    "* $T(\\vec{a}+\\vec{b}) = T(\\vec{a}) + T(\\vec{b})$\n",
    "* $T(\\lambda\\vec{a}) = \\lambda T(\\vec{a})$\n"
   ]
  },
  {
   "cell_type": "markdown",
   "metadata": {},
   "source": [
    "**Corollary.** A linear transformation is completely defined by the images of the vectors in the basis."
   ]
  },
  {
   "cell_type": "markdown",
   "metadata": {},
   "source": [
    "### Matrix representation of linear transformation"
   ]
  },
  {
   "cell_type": "markdown",
   "metadata": {},
   "source": [
    "_**Example.**_ In $\\mathbb{R^2}$\n",
    "\n",
    "Say the linear transformation $T$ maps the vectors of the basis\n",
    "$\\begin{bmatrix}\n",
    "    1\\\\\n",
    "    0\n",
    "\\end{bmatrix},\n",
    "\\begin{bmatrix}\n",
    "    0\\\\\n",
    "    1\n",
    "\\end{bmatrix}$\n",
    "to the vectors\n",
    "$\\begin{bmatrix}\n",
    "    a\\\\\n",
    "    c\n",
    "\\end{bmatrix},\n",
    "\\begin{bmatrix}\n",
    "    b\\\\\n",
    "    d\n",
    "\\end{bmatrix}$."
   ]
  },
  {
   "cell_type": "markdown",
   "metadata": {},
   "source": [
    "In general, the linear transformation $T$ of a vector $\\begin{bmatrix} x\\\\ y \\end{bmatrix}$ can be written as $x\\begin{bmatrix}a\\\\c\\end{bmatrix}+y\\begin{bmatrix}b\\\\d\\end{bmatrix}=\\begin{bmatrix}ax+by\\\\cx+dy\\end{bmatrix}$."
   ]
  },
  {
   "cell_type": "markdown",
   "metadata": {},
   "source": [
    "We can represent the linear transformation $T$ with the matrix $A=\\begin{bmatrix}a & b\\\\c & d\\end{bmatrix}$.\n",
    "\n",
    "The result for any vector $v=\\begin{bmatrix} x\\\\ y \\end{bmatrix}$ can then be computed with the matrix-vector product $Av = \\begin{bmatrix}ax+by\\\\cx+dy\\end{bmatrix}$. "
   ]
  },
  {
   "cell_type": "code",
   "execution_count": null,
   "metadata": {
    "collapsed": true
   },
   "outputs": [],
   "source": []
  }
 ],
 "metadata": {
  "anaconda-cloud": {},
  "kernelspec": {
   "display_name": "Python [conda root]",
   "language": "python",
   "name": "conda-root-py"
  },
  "language_info": {
   "codemirror_mode": {
    "name": "ipython",
    "version": 3
   },
   "file_extension": ".py",
   "mimetype": "text/x-python",
   "name": "python",
   "nbconvert_exporter": "python",
   "pygments_lexer": "ipython3",
   "version": "3.5.2"
  }
 },
 "nbformat": 4,
 "nbformat_minor": 1
}
