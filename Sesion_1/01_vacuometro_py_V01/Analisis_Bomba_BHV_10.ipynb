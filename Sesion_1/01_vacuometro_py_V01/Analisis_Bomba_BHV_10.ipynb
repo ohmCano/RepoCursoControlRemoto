{
 "cells": [
  {
   "cell_type": "markdown",
   "id": "nonprofit-methodology",
   "metadata": {},
   "source": [
    "# Análisis capacidad de vacío de la bomba BHV 10\n",
    "\n",
    "### Autor: Andoni Pérez Segura\n",
    "### Fecha: 31/05/23\n",
    "### Versión: 0"
   ]
  },
  {
   "cell_type": "markdown",
   "id": "improving-moore",
   "metadata": {},
   "source": [
    "## Introducción\n",
    "\n",
    "En este documento se medirá el nivel mínimo de presión que se puede obtener con la bomba BHV 10. Para ello, se utilizará el vacuómetro [925 Micro Pirani](./PDF/925_Micropirani_Datasheet.pdf) de MKS Instruments. Además, se hará uso de una librería para poder teleocntrolar y el vacuómetro y poder representar los datos gráficamente. "
   ]
  },
  {
   "cell_type": "code",
   "execution_count": 12,
   "id": "lightweight-bronze",
   "metadata": {},
   "outputs": [
    {
     "name": "stdout",
     "output_type": "stream",
     "text": [
      "Name: pyserial\n",
      "Version: 3.5\n",
      "Summary: Python Serial Port Extension\n",
      "Home-page: https://github.com/pyserial/pyserial\n",
      "Author: Chris Liechti\n",
      "Author-email: cliechti@gmx.net\n",
      "License: BSD\n",
      "Location: d:\\sw\\programacion\\python\\wpy64-3920\\python-3.9.2.amd64\\lib\\site-packages\n",
      "Requires: \n",
      "Required-by: \n"
     ]
    }
   ],
   "source": [
    "# Librerías necesarias de instalación\n",
    "\n",
    "# !pip install pyserial\n",
    "!pip show pyserial"
   ]
  },
  {
   "cell_type": "code",
   "execution_count": 1,
   "id": "tough-catholic",
   "metadata": {
    "tags": []
   },
   "outputs": [],
   "source": [
    "## Librería para el control del vacuómetro 925 Micro Pirani\n",
    "\n",
    "class MKS925:\n",
    "    def __init__(self, port, b_addr):\n",
    "        self.port = port\n",
    "        self.b_addr = b_addr\n",
    "\n",
    "\n",
    "    ################################### READ ###################################\n",
    "\n",
    "    #0. Reading function for final Byte detection\n",
    "    def read_until(self,finish):\n",
    "        buf = bytearray()\n",
    "        while finish not in buf:\n",
    "            buf = buf + self.port.read() \n",
    "        return buf\n",
    "\n",
    "    #1. Read: Baud Rate (Example: 19200)\n",
    "    def read_BaudRate(self):\n",
    "        self.port.write(f'@{self.b_addr}BR?;FF'.encode('ascii'))  #f-string solo validas en Python3.6\n",
    "        data=self.read_until(b';FF').split(b'ACK')[1]\n",
    "        data = int(data.split(b';FF')[0].decode('ascii'))\n",
    "        return data\n",
    "\n",
    "    #2. Read: Transducer communication address (001 to 253)\n",
    "    def read_Address(self):\n",
    "        self.port.write(f'@{self.b_addr}AD?;FF'.encode('ascii'))\n",
    "        data=self.read_until(b';FF').split(b'ACK')[1]\n",
    "        data = int(data.split(b';FF')[0].decode('ascii'))\n",
    "        return data\n",
    "\n",
    "    #3. Read: Communication delay between receive and transmit sequence (ON / OFF)\n",
    "    def read_Delay(self):\n",
    "        self.port.write(f'@{self.b_addr}RSD?;FF'.encode('ascii'))\n",
    "        data=self.read_until(b';FF').split(b'ACK')[1]\n",
    "        data = data.split(b';FF')[0].decode('ascii')\n",
    "        return data\n",
    "    \n",
    "    #4. Read: Sensor pressure as 3 digit floating point value. (Example: 1.23E-3)\n",
    "    def read_Pressure(self):\n",
    "#\tprintf(f'@{self.b_addr}PR1?;FF')\n",
    "        self.port.write(f'@{self.b_addr}PR1?;FF'.encode('ascii'))\n",
    "        data=self.read_until(b';FF').split(b'ACK')[1]\n",
    "        data = float(data.split(b';FF')[0].decode('ascii'))\n",
    "        return data\n",
    "#\treturn 1\n",
    "    \n",
    "    #5. Read: Sensor pressure as 4 digit floating point value (Example: 1.23E-3)\n",
    "    def read_PressureAccurate(self):\n",
    "        self.port.write(f'@{self.b_addr}PR4?;FF'.encode('ascii'))\n",
    "        data=self.read_until(b';FF').split(b'ACK')[1]\n",
    "        data = float(data.split(b';FF')[0].decode('ascii'))\n",
    "        return data\n",
    "\n",
    "    #6. Read: Setpoint relay 1 status (SET=Relay energized / CLEAR=Relay deenergized)\n",
    "    def read_SetpointRelay1(self):\n",
    "        self.port.write(f'@{self.b_addr}SS1?;FF'.encode('ascii'))\n",
    "        data=self.read_until(b';FF').split(b'ACK')[1]\n",
    "        data = data.split(b';FF')[0].decode('ascii')\n",
    "        return data    \n",
    "\n",
    "    #7. Read: Setpoint relay 2 status (SET=Relay energized / CLEAR=Relay deenergized)\n",
    "    def read_SetpointRelay2(self):\n",
    "        self.port.write(f'@{self.b_addr}SS2?;FF'.encode('ascii'))\n",
    "        data=self.read_until(b';FF').split(b'ACK')[1]\n",
    "        data = data.split(b';FF')[0].decode('ascii')\n",
    "        return data\n",
    "    \n",
    "    #8. Read: Setpoint relay 3 status (SET=Relay energized / CLEAR=Relay deenergized)\n",
    "    def read_SetpointRelay3(self):\n",
    "        self.port.write(f'@{self.b_addr}SS3?;FF'.encode('ascii'))\n",
    "        data=self.read_until(b';FF').split(b'ACK')[1]\n",
    "        data = data.split(b';FF')[0].decode('ascii')\n",
    "        return data\n",
    "\n",
    "    #9. Read: Setpoint 1 switch value (Example: 1.00E-2)\n",
    "    def read_SetpointSwitch1(self):\n",
    "        self.port.write(f'@{self.b_addr}SP1?;FF'.encode('ascii'))\n",
    "        data=self.read_until(b';FF').split(b'ACK')[1]\n",
    "        data = float(data.split(b';FF')[0].decode('ascii'))\n",
    "        return data    \n",
    "\n",
    "    #10. Read: Setpoint 2 switch value (Example: 1.00E-2)\n",
    "    def read_SetpointSwitch2(self):\n",
    "        self.port.write(f'@{self.b_addr}SP2?;FF'.encode('ascii'))\n",
    "        data=self.read_until(b';FF').split(b'ACK')[1]\n",
    "        data = float(data.split(b';FF')[0].decode('ascii'))\n",
    "        return data  \n",
    "\n",
    "    #11. Read: Setpoint 3 switch value (Example: 1.00E-2)\n",
    "    def read_SetpointSwitch3(self):\n",
    "        self.port.write(f'@{self.b_addr}SP3?;FF'.encode('ascii'))\n",
    "        data=self.read_until(b';FF').split(b'ACK')[1]\n",
    "        data = float(data.split(b';FF')[0].decode('ascii'))\n",
    "        return data  \n",
    "    \n",
    "    #12. Read: Setpoint 1 hysteresis switch value (Example: 1.10E-2)\n",
    "    def read_SetpointHysteresis1(self):\n",
    "        self.port.write(f'@{self.b_addr}SH1?;FF'.encode('ascii'))\n",
    "        data=self.read_until(b';FF').split(b'ACK')[1]\n",
    "        data = float(data.split(b';FF')[0].decode('ascii'))\n",
    "        return data  \n",
    "\n",
    "    #13. Read: Setpoint 2 hysteresis switch value (Example: 1.10E-2)\n",
    "    def read_SetpointHysteresis2(self):\n",
    "        self.port.write(f'@{self.b_addr}SH2?;FF'.encode('ascii'))\n",
    "        data=self.read_until(b';FF').split(b'ACK')[1]\n",
    "        data = float(data.split(b';FF')[0].decode('ascii'))\n",
    "        return data \n",
    "\n",
    "     #14. Read: Setpoint 3 hysteresis switch value (Example: 1.10E-2)\n",
    "    def read_SetpointHysteresis3(self):\n",
    "        self.port.write(f'@{self.b_addr}SH3?;FF'.encode('ascii'))\n",
    "        data=self.read_until(b';FF').split(b'ACK')[1]\n",
    "        data = float(data.split(b';FF')[0].decode('ascii'))\n",
    "        return data \n",
    "\n",
    "    #15. Read: Setpoint 1 enable status (DIFF=Piezo differential / ABS=Absolute Piezo?????????????)\n",
    "    def read_SetpointEnable1(self):\n",
    "        self.port.write(f'@{self.b_addr}EN1?;FF'.encode('ascii'))\n",
    "        data=self.read_until(b';FF').split(b'ACK')[1]\n",
    "        data = data.split(b';FF')[0].decode('ascii')\n",
    "        return data \n",
    "    \n",
    "    #16. Read: Setpoint 2 enable status (DIFF=Piezo differential / ABS=Absolute Piezo?????????????)\n",
    "    def read_SetpointEnable2(self):\n",
    "        self.port.write(f'@{self.b_addr}EN2?;FF'.encode('ascii'))\n",
    "        data=self.read_until(b';FF').split(b'ACK')[1]\n",
    "        data = data.split(b';FF')[0].decode('ascii')\n",
    "        return data \n",
    "\n",
    "    #17. Read: Setpoint 3 enable status (DIFF=Piezo differential / ABS=Absolute Piezo?????????????)\n",
    "    def read_SetpointEnable3(self):\n",
    "        self.port.write(f'@{self.b_addr}EN3?;FF'.encode('ascii'))\n",
    "        data=self.read_until(b';FF').split(b'ACK')[1]\n",
    "        data = data.split(b';FF')[0].decode('ascii')\n",
    "        return data \n",
    "\n"
   ]
  },
  {
   "cell_type": "code",
   "execution_count": 66,
   "id": "described-hypothesis",
   "metadata": {},
   "outputs": [
    {
     "data": {
      "image/png": "[encoded data removed]",
      "text/plain": [
       "<Figure size 432x288 with 1 Axes>"
      ]
     },
     "metadata": {},
     "output_type": "display_data"
    },
    {
     "data": {
      "image/png": "[encoded data removed]",
      "text/plain": [
       "<Figure size 432x288 with 1 Axes>"
      ]
     },
     "metadata": {
      "needs_background": "light"
     },
     "output_type": "display_data"
    }
   ],
   "source": [
    "## Código para la lectura de datos\n",
    "\n",
    "import serial\n",
    "import time\n",
    "import datetime\n",
    "import matplotlib.pyplot as plt\n",
    "import pylab as pl\n",
    "from IPython import display\n",
    "\n",
    "addr = 'COM11'  # Comprobado en el admistrador de dispositivos\n",
    "#addr = '/dev/ttyUSB0'  # para trabajar en linux\n",
    "baud = 19200\n",
    "\n",
    "vcm_port = serial.Serial(addr, baud,timeout=0,bytesize=8, parity='N', stopbits=1, xonxoff=0, rtscts=0)\n",
    "\n",
    "vcm = MKS925(vcm_port, 123)\n",
    "print(vcm.read_Pressure())\n",
    "vacuum_pressure = vcm.read_Pressure()/100\n",
    "vacio=('{:.3e}'.format(vacuum_pressure))\n",
    "print(vacio)\n",
    "\n",
    "medidas = []\n",
    "time_plot = 0\n",
    "fig = plt.figure()\n",
    "\n",
    "for x in range(5*60):\n",
    "    time_stamp = time.time()\n",
    "    vacuum_pressure = vcm.read_Pressure()/100\n",
    "    #medidas.append(vacuum_pressure)\n",
    "    vacio=('{:.3e}'.format(vacuum_pressure))\n",
    "    date_stamp = datetime.datetime.fromtimestamp(time_stamp).strftime('%Y-%m-%d %H:%M:%S')\n",
    "    #print(str(date_stamp) + \"\\t\" + vacio + \"\\t\"  + str(time_stamp) + \"\\n\")\n",
    "    medidas.append(vacuum_pressure)\n",
    "    time.sleep(1)\n",
    "    time_plot += 1\n",
    "    pl.plot(np.arange(x+1), medidas)\n",
    "    pl.grid()\n",
    "    display.clear_output(wait=True)\n",
    "    display.display(pl.gcf())\n",
    "    pl.grid()\n",
    "\"\"\"\"\n",
    "plt.plot(np.arange(len(medidas)), medidas)\n",
    "plt.grid()\n",
    "plt.show()\n",
    "\"\"\"\n",
    "vcm_port.close()"
   ]
  },
  {
   "cell_type": "code",
   "execution_count": 90,
   "id": "matched-apartment",
   "metadata": {},
   "outputs": [
    {
     "data": {
      "image/png": "[encoded data removed]",
      "text/plain": [
       "<Figure size 432x288 with 1 Axes>"
      ]
     },
     "metadata": {
      "needs_background": "light"
     },
     "output_type": "display_data"
    }
   ],
   "source": [
    "zoom = 100\n",
    "\n",
    "plt.plot(zoom + np.arange(len(medidas)-zoom), medidas[zoom:len(medidas)])\n",
    "plt.grid()\n",
    "plt.show()"
   ]
  },
  {
   "cell_type": "code",
   "execution_count": 86,
   "id": "individual-witness",
   "metadata": {},
   "outputs": [
    {
     "data": {
      "image/png": "[encoded data removed]",
      "text/plain": [
       "<Figure size 432x288 with 1 Axes>"
      ]
     },
     "metadata": {
      "needs_background": "light"
     },
     "output_type": "display_data"
    }
   ],
   "source": [
    "zoom = 250\n",
    "\n",
    "plt.plot(zoom + np.arange(len(medidas)-zoom), medidas[zoom:len(medidas)])\n",
    "plt.grid()\n",
    "plt.show()"
   ]
  },
  {
   "cell_type": "code",
   "execution_count": 65,
   "id": "vital-booth",
   "metadata": {},
   "outputs": [],
   "source": [
    "vcm_port.close()"
   ]
  },
  {
   "cell_type": "code",
   "execution_count": 93,
   "id": "unlimited-joining",
   "metadata": {},
   "outputs": [],
   "source": [
    "medidas_referencia_bomba = medidas[zoom:len(medidas)]"
   ]
  },
  {
   "cell_type": "code",
   "execution_count": 94,
   "id": "accessory-vision",
   "metadata": {},
   "outputs": [
    {
     "name": "stdout",
     "output_type": "stream",
     "text": [
      "Stored 'medidas_referencia_bomba' (list)\n"
     ]
    }
   ],
   "source": [
    "%store medidas_referencia_bomba"
   ]
  },
  {
   "cell_type": "code",
   "execution_count": null,
   "id": "secondary-weather",
   "metadata": {},
   "outputs": [],
   "source": []
  }
 ],
 "metadata": {
  "kernelspec": {
   "display_name": "Python 3",
   "language": "python",
   "name": "python3"
  },
  "language_info": {
   "codemirror_mode": {
    "name": "ipython",
    "version": 3
   },
   "file_extension": ".py",
   "mimetype": "text/x-python",
   "name": "python",
   "nbconvert_exporter": "python",
   "pygments_lexer": "ipython3",
   "version": "3.9.2"
  }
 },
 "nbformat": 4,
 "nbformat_minor": 5
}
