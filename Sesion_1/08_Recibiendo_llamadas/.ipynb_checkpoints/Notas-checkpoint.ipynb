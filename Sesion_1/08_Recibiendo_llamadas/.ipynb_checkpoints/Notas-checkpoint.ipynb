{
 "cells": [
  {
   "cell_type": "markdown",
   "id": "demographic-switzerland",
   "metadata": {},
   "source": [
    "# Curso de python\n",
    "## JupyterLab\n",
    "### Óscar Mártínez Cano"
   ]
  },
  {
   "attachments": {
    "3377c36c-bd90-45dc-bae6-a2e485e1f889.png": {
     "image/png": "[encoded data removed]"
    }
   },
   "cell_type": "markdown",
   "id": "electronic-rachel",
   "metadata": {},
   "source": [
    "Atajo para captura en windows con recorte: Mayús + win + s. Se va al portapapeles y CTRL + V.\n",
    "\n",
    "![image.png](attachment:3377c36c-bd90-45dc-bae6-a2e485e1f889.png)\n"
   ]
  },
  {
   "cell_type": "markdown",
   "id": "english-excerpt",
   "metadata": {},
   "source": [
    "# Pasos\n",
    "Clic en \"+\" --> Nuevo Notebook de pythonc3\n",
    "\n",
    "Las imágenes se guardan en base64. No aparecen en el directorio. Están encapsuladas. Se puede ver si abres el nb con un editor de texto plano.\n",
    "\n",
    "Dentro del nb hay un desplegable. En markdown se pone bonito\n",
    "\n",
    "Mayús + intro compila la celda y genera nuevas celdas"
   ]
  },
  {
   "cell_type": "code",
   "execution_count": null,
   "id": "valued-belize",
   "metadata": {},
   "outputs": [],
   "source": []
  }
 ],
 "metadata": {
  "kernelspec": {
   "display_name": "Python 3",
   "language": "python",
   "name": "python3"
  },
  "language_info": {
   "codemirror_mode": {
    "name": "ipython",
    "version": 3
   },
   "file_extension": ".py",
   "mimetype": "text/x-python",
   "name": "python",
   "nbconvert_exporter": "python",
   "pygments_lexer": "ipython3",
   "version": "3.9.2"
  }
 },
 "nbformat": 4,
 "nbformat_minor": 5
}
