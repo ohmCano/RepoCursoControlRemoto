{
 "cells": [
  {
   "cell_type": "code",
   "execution_count": 13,
   "id": "super-citation",
   "metadata": {},
   "outputs": [
    {
     "data": {
      "text/html": [
       "\n",
       "        <iframe\n",
       "            width=\"900\"\n",
       "            height=\"900\"\n",
       "            src=\"./Lab01.pdf\"\n",
       "            frameborder=\"0\"\n",
       "            allowfullscreen\n",
       "        ></iframe>\n",
       "        "
      ],
      "text/plain": [
       "<IPython.lib.display.IFrame at 0x17c16717790>"
      ]
     },
     "execution_count": 13,
     "metadata": {},
     "output_type": "execute_result"
    }
   ],
   "source": [
    "from IPython.display import IFrame\n",
    "IFrame(\"./Lab01.pdf\", width=900, height=900)"
   ]
  },
  {
   "cell_type": "code",
   "execution_count": 10,
   "id": "facial-shock",
   "metadata": {},
   "outputs": [],
   "source": [
    "import numpy as np    #con numpy\n",
    "import sympy as sp    #con sympy\n",
    "import matplotlib.pyplot as plt  #con matplotlib"
   ]
  },
  {
   "cell_type": "code",
   "execution_count": 14,
   "id": "crucial-storage",
   "metadata": {},
   "outputs": [
    {
     "name": "stdout",
     "output_type": "stream",
     "text": [
      "matriz A: \n",
      "[[1 2]\n",
      " [3 4]]\n",
      "inversa con numpy: \n",
      " [[-2.   1. ]\n",
      " [ 1.5 -0.5]]\n",
      "inversa con sympy: \n",
      " Matrix([[-2, 1], [3/2, -1/2]])\n"
     ]
    },
    {
     "data": {
      "image/png": "[encoded data removed]",
      "text/plain": [
       "<Figure size 432x288 with 1 Axes>"
      ]
     },
     "metadata": {
      "needs_background": "light"
     },
     "output_type": "display_data"
    }
   ],
   "source": [
    "\n",
    "\n",
    "#Escriba e imprima una matriz 2 x 2\n",
    "A = np.array([[1, 2], [3, 4]])\n",
    "print(\"matriz A: \\n\" + str(A))\n",
    "\n",
    "#Calcule la inversa\n",
    "inva = np.linalg.inv(A)                     #con numpy\n",
    "print(\"inversa con numpy: \\n \" + str(inva))\n",
    "inva2 = sp.Matrix(A).inv()                  #ccon sympy\n",
    "print(\"inversa con sympy: \\n \" + str(inva2))\n",
    "\n",
    "\n",
    "\n",
    "s = np.random.randint(100, size=(5, 5))   #matriz de 5x5 con valores enteros aleatorios con maximo de 100\n",
    "\n",
    "#Cree definiciones para construir funciones\n",
    "def f(x):\n",
    "    return (s[0][0])*x*x+(s[0][1])*x-(s[0][3])\n",
    "\n",
    "# Valores que tomara x\n",
    "x = range(-20, 20)\n",
    "\n",
    "# Graficar la funcion en el rango especificado\n",
    "plt.plot(x, [f(i) for i in x])\n",
    "\n",
    "# Establecemos el color de los ejes.\n",
    "plt.axhline(0, color=\"black\")\n",
    "\n",
    "# Especificamos los limites de los ejes.\n",
    "plt.xlim(-10, 10)\n",
    "plt.ylim(-100, 100)\n",
    "\n",
    "#comando para guardar la grafica en la misma carpeta del proyecto.\n",
    "plt.savefig(\"outputA.png\")\n",
    "\n",
    "# Mostramos el grafico realizado.\n",
    "plt.show()"
   ]
  },
  {
   "cell_type": "code",
   "execution_count": null,
   "id": "moderate-monte",
   "metadata": {},
   "outputs": [],
   "source": []
  }
 ],
 "metadata": {
  "kernelspec": {
   "display_name": "Python 3",
   "language": "python",
   "name": "python3"
  },
  "language_info": {
   "codemirror_mode": {
    "name": "ipython",
    "version": 3
   },
   "file_extension": ".py",
   "mimetype": "text/x-python",
   "name": "python",
   "nbconvert_exporter": "python",
   "pygments_lexer": "ipython3",
   "version": "3.9.2"
  }
 },
 "nbformat": 4,
 "nbformat_minor": 5
}
