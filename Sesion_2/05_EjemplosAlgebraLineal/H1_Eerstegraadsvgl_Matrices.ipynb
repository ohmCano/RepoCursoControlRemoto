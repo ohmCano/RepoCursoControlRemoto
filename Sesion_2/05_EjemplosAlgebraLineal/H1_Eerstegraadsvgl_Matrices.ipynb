{
 "cells": [
  {
   "cell_type": "markdown",
   "metadata": {},
   "source": [
    "### Legenda\n",
    "_**Definitie**_. Body.\n",
    "\n",
    "⚠️ _**Eigenschap**_ bla."
   ]
  },
  {
   "cell_type": "markdown",
   "metadata": {},
   "source": [
    "## Gauss-eliminatie, echelon/rijgereduceerde vorm"
   ]
  },
  {
   "cell_type": "markdown",
   "metadata": {},
   "source": [
    "_**Rij-equivalent**_.\n",
    "Als een stelsel kan ontstaan door een opeenvolging van elementaire rijoperaties uit te voeren op een ander stelsel, dan zijn deze twee stelsels *rij-equivalent*."
   ]
  },
  {
   "cell_type": "markdown",
   "metadata": {},
   "source": [
    "_**Gebonden/basis variabele**_. \n",
    "Gegeven: stelsels eerstegraadsvergelijkingen, waarvan matrix in echelonvorm (/trapvorm). Variabelen die corresponderen met kolommen waarin een leidende 1 (/leidend element) staat zijn *gebonden* (/*basis*), de anderen - indien er zijn - noemen we *vrij*."
   ]
  },
  {
   "cell_type": "markdown",
   "metadata": {},
   "source": [
    "⚠️ _**Elke matrix**_ is rij-equivalent met een matrix in echelonvorm en zelfs met een rijgereduceerde matrix.\n",
    "\n",
    "&nbsp;&nbsp;&nbsp;&nbsp;&nbsp;&nbsp;**Bewijs** (Deze methode heet Gauss-eliminatie)\n",
    "\n",
    "   - *Basisgeval*\n",
    "  \n",
    "  Lege matrix/nul matrix. Stop.\n",
    "\n",
    "\n",
    "- *Recursieve stap*\n",
    "  \n",
    " 1. Verwissel $R_1$ met rij waarin leidend element meest links staat\n",
    " 2. Maak leidend element in $R_1$ 1 door $R_1 \\to \\lambda R_1$ met $\\lambda = \\frac{1}{\\text{leidend element}}$\n",
    " 3. Maak alle andere elementen in de kolom waarin leidend element staat 0 door $R_j \\to \\lambda_j R_1$ met $\\lambda_j$\n",
    "  \n",
    "  Voer dezelfde procedure uit op deze matrix zonder $R_1$ en enkel de kolommen rechts van het leidend element in $R_1$"
   ]
  },
  {
   "cell_type": "markdown",
   "metadata": {},
   "source": [
    "## Matrices"
   ]
  },
  {
   "cell_type": "markdown",
   "metadata": {},
   "source": [
    "_**Symmetrische matrix**_. \n",
    "$A^T=A$"
   ]
  },
  {
   "cell_type": "markdown",
   "metadata": {},
   "source": [
    "_**Scheefsymmetrische matrix**_. \n",
    "$A^T=-A$"
   ]
  },
  {
   "cell_type": "markdown",
   "metadata": {},
   "source": [
    "_**Diagonaalmatrix**_. \n",
    "Matrix waarbij enkel de elementen op de diagonaal kunnen verschillen van 0."
   ]
  },
  {
   "cell_type": "markdown",
   "metadata": {},
   "source": [
    "_**Eenheidsmatrix**_. \n",
    "Vierkante diagonaalmatrix met elk diagonaalelement gelijk aan 1. \n",
    "*Notatie*: $\\mathbb{I}_n$ voor ($n\\times n$)-matrix. \n",
    "\n",
    "$\\lambda\\mathbb{I}_n$ noemen we een *scalaire matrix*.\n",
    "\n",
    "$\\mathbb{I}_n\\cdot B = B$\n",
    "\n",
    "$A\\cdot\\mathbb{I}_n = A$"
   ]
  },
  {
   "cell_type": "markdown",
   "metadata": {},
   "source": [
    "_**Spoor**_. \n",
    "Som van de elementen op de diagonaal van een vierkante ($n\\times n$)-matrix. $Tr(A) =\\Sigma^n_{i=1}(A)_{ii}$"
   ]
  },
  {
   "cell_type": "markdown",
   "metadata": {},
   "source": [
    "⚠️ Een stelsel van eerstegraadsvergelijkingen heeft\n",
    " 1. ofwel geen oplossingen\n",
    " 2. ofwel juist 1 oplossing\n",
    " 3. ofwel oneindig veel oplossingen\n",
    "\n",
    "&nbsp;&nbsp;&nbsp;&nbsp;&nbsp;&nbsp;**Bewijs** Zodra er twee oplossingen zijn, zijn er oneindig veel.\n",
    "\n",
    "&nbsp;&nbsp;&nbsp;&nbsp;&nbsp;&nbsp;$A\\cdot X = B$ heeft twee verschillende oplossingen $X_1$ en $X_2$.\n",
    "Neem, voor een willekeurig getal $\\lambda$, de kolomvector $X^{(\\lambda)} = X_1 + \\lambda(X_2-X_1)$.\n",
    "\n",
    "&nbsp;&nbsp;&nbsp;&nbsp;&nbsp;&nbsp;Dan is $$A\\cdot X^{(\\lambda)} = A\\cdot X_1 + \\lambda(A\\cdot X_2 - A\\cdot X_1) = A\\cdot X_1 + \\lambda(B-B) = A\\cdot X_1 + \\lambda O = A\\cdot X_1 + O = A\\cdot X_1 = B$$\n",
    "\n",
    "&nbsp;&nbsp;&nbsp;&nbsp;&nbsp;&nbsp;Voor elk getal $\\lambda$ is er een $X^{(\\lambda)}$. Zo zijn er oneindig, er zijn dus oneindig veel oplossingen."
   ]
  },
  {
   "cell_type": "markdown",
   "metadata": {},
   "source": [
    "#### Inverse"
   ]
  },
  {
   "cell_type": "markdown",
   "metadata": {},
   "source": [
    "⚠️ Als een vierkante matrix $A$ een links inverse $B$ en een rechts inverse $C$ heeft, dan $B=C$.\n",
    "\n",
    "&nbsp;&nbsp;&nbsp;&nbsp;&nbsp;&nbsp;**Bewijs**\n",
    "\n",
    "&nbsp;&nbsp;&nbsp;&nbsp;&nbsp;&nbsp;$A$ is vierkant, dus $B$ en $C$ ook en met dezelfde afmetingen ($n\\times n$).\n",
    "&nbsp;&nbsp;&nbsp;&nbsp;&nbsp;&nbsp;$$B = B\\cdot\\mathbb{I}_n = B\\cdot(A\\cdot C) = (B\\cdot A)\\cdot C = \\mathbb{I}_n\\cdot C = C$$"
   ]
  },
  {
   "cell_type": "markdown",
   "metadata": {},
   "source": [
    "### Inverteerbaarheid van matrices en inverse matrices"
   ]
  },
  {
   "cell_type": "markdown",
   "metadata": {},
   "source": [
    "**Inverteerbare matrix**. \n",
    "Een vierkante matrix $A$ is *inverteerbaar* (of *regulier*, of *niet-singulier*) als er een matrix bestaat die links en rechts inverse is van $A$. \n",
    "Deze matrix heet de *inverse matrix* en noteren we $A^{-1}$.\n",
    "In het andere geval heet $A$ *niet-inverteerbaar* of *singulier*."
   ]
  },
  {
   "cell_type": "markdown",
   "metadata": {},
   "source": [
    "⚠️ Als $A$ en $B$ inverteerbaar zijn en van gelijke afmetingen, dan is $A\\cdot B$ ook inverteerbaar en er geldt:\n",
    "$$(A\\cdot B)^{-1} = B^{-1}\\cdot A^{-1}$$"
   ]
  },
  {
   "cell_type": "markdown",
   "metadata": {},
   "source": [
    "### Elementaire rijoperaties en elementaire matrices"
   ]
  },
  {
   "cell_type": "markdown",
   "metadata": {},
   "source": [
    "_**Elementaire matrix**_. Matrix die men verkrijgt door 1 elementaire rijoperatie uit te voeren op de eenheidsmatrix."
   ]
  },
  {
   "cell_type": "markdown",
   "metadata": {},
   "source": [
    "⚠️ Een elementaire rijoperatie uitvoeren op een matrix $A$ komt overeen met het links vermenigvuldigen van een elementaire matrix met $A$."
   ]
  },
  {
   "cell_type": "markdown",
   "metadata": {},
   "source": [
    "⚠️ Elementaire matrices zijn inverteerbaar. Hun inverse is een elementaire matrix van hetzelfde type."
   ]
  },
  {
   "cell_type": "markdown",
   "metadata": {},
   "source": [
    "⚠️ Neem $A$ een ($n\\times n$) matrix. Dan zijn volgende beweringen equivalent:\n",
    "\n",
    "   1. $A$ heeft een links inverse $B$\n",
    "   2. $A\\cdot X = 0$ heeft enkel de oplossing $X=0$\n",
    "   3. $A$ is rij-equivalent met $\\mathbb{I}_n$\n",
    "   4. $A$ is een product van elementaire matrices\n",
    "   5. $A$ is inverteerbaar met inverse $B$\n",
    "   6. $A$ heeft een rechts inverse $B$"
   ]
  },
  {
   "cell_type": "code",
   "execution_count": null,
   "metadata": {
    "collapsed": true
   },
   "outputs": [],
   "source": []
  }
 ],
 "metadata": {
  "kernelspec": {
   "display_name": "Python [conda root]",
   "language": "python",
   "name": "conda-root-py"
  },
  "language_info": {
   "codemirror_mode": {
    "name": "ipython",
    "version": 3
   },
   "file_extension": ".py",
   "mimetype": "text/x-python",
   "name": "python",
   "nbconvert_exporter": "python",
   "pygments_lexer": "ipython3",
   "version": "3.5.2"
  }
 },
 "nbformat": 4,
 "nbformat_minor": 1
}
