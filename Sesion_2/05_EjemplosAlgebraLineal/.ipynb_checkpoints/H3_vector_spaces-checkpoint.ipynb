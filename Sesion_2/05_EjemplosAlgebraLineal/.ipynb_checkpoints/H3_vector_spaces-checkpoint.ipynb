{
 "cells": [
  {
   "cell_type": "markdown",
   "metadata": {
    "collapsed": true
   },
   "source": [
    "# Subspace"
   ]
  },
  {
   "cell_type": "markdown",
   "metadata": {},
   "source": [
    "**Subspace.** The set of vectors $V$ is a linear subspace of $\\mathbb{R}^n \\iff$ null vector $\\in V$ and $V$ is closed under scalar multiplication and addition."
   ]
  },
  {
   "cell_type": "markdown",
   "metadata": {},
   "source": [
    "⚠️ *Union of subspaces is not a subspace*\n",
    "\n",
    "> The reason why this can happen is that all vector spaces, and hence subspaces too, must be closed under addition (and scalar multiplication). The union of two subspaces takes all the elements already in those spaces, and nothing more. \n",
    "> \n",
    "> In the union of subspaces $W_1$ and $W_2$ there are new combinations of vectors we can add together that we couldn't before, like $v_1 + v_2$ where $v_1 \\in W_1$ and $v_2 \\in W_2$.\n",
    "> \n",
    "> For example, take $W_1$ to be the $x$-axis and $W_2$ the $y$-axis, both subspaces of $\\mathbb{R}^2$.\n",
    "Their union includes both $(3,0)$ and $(0,5)$, whose sum, $(3,5)$, is not in the union. Hence, the union is not a vector space.\n",
    ">\n",
    "> http://math.stackexchange.com/a/71875/402625"
   ]
  },
  {
   "cell_type": "markdown",
   "metadata": {},
   "source": [
    "# Linear Dependence and Independence\n",
    "**Linearly Dependent.** A set of vectors is linearly dependent if there exists a vector in the set that *can be written as a linear combination of the others*.\n",
    "\n",
    "**Linearly Independent.** A set of vectors is linearly independent $\\iff$ the only linear combination that gives the null vector is the linear combination with all coefficients equal to $0$.\n",
    "$$\\Sigma_{i=0}^k \\lambda_i v_i = 0 \\iff \\lambda_1 = \\lambda_2 = \\dots = \\lambda_i = 0$$\n",
    "\n",
    "_**Proof.**_ ($\\Rightarrow$) Say there exists a linear combination of that set ($D$) that evaluates to the null vector and not all coefficients equal $0$, then there exists a linear combination $\\Sigma_{i=1}^{n}\\lambda_i v_i=0$ with $\\lambda_i\\in\\mathbb{R}, v_i\\in D$ and $\\lambda_1\\neq0$. So, $v_1=\\frac{-1}{\\lambda_1}\\left( \\Sigma_{i=2}^{n}\\lambda_i v_i \\right)$ and the set is linearly dependent."
   ]
  },
  {
   "cell_type": "markdown",
   "metadata": {
    "collapsed": true
   },
   "source": [
    "# Span\n",
    "**Span**. The *span of a given subset ($D$) of a vector space ($V$)* is *the vector space ($\\text{span}(D)$) containing all possible linear combinations of the vectors in the subset ($D$)*.\n",
    "\n",
    "##### _Example_\n",
    "\\begin{equation}\n",
    "    A_1=\n",
    "    \\begin{bmatrix}\n",
    "        1 \\\\\n",
    "        0\n",
    "    \\end{bmatrix},\n",
    "    A_2=\n",
    "    \\begin{bmatrix}\n",
    "        0 \\\\\n",
    "        1\n",
    "    \\end{bmatrix}\n",
    "\\end{equation}\n",
    "$\\text{span}(\\{A_1,A_2\\})=\\langle\\{A_1,A_2\\}\\rangle=\\text{vct}(\\{A_1,A_2\\})= \\{\\alpha_1A_1 + \\alpha_2A_2\\mid\\alpha_1,\\alpha_2\\in\\mathbb{R}\\}$\n",
    "\n",
    "Two 2-vectors span $\\mathbb{R}^2 \\iff$ they are linearly independent.\n",
    "\n",
    "$\\text{span}(\\{A_1,A_2\\})=\\mathbb{R}^2$\n",
    "\n",
    "##### Thoughts\n",
    "*Q*: If the set of 2 vectors is linearly dependent, can each one be written as a linear combination of the other? What about 3 vectors?\n",
    "\n",
    "*A*: Trivial for 2 vectors. If the set of vectors $A_1$ and $A_2$ are linearly dependent, there exists a vector in that set that can be written as a linear combination of the other. Say $A_1$ is that vector, then $A_1=\\alpha A_2,$ with  $\\alpha\\in\\mathbb{F}$ and $A_2=\\frac{1}{\\alpha}A_1$. Analogue if $A_2$ is that vector.\n",
    "\n",
    "For 3 vectors, this isn't necessarily possible (e.g.: $\\{(1,0,0),(2,0,0),(0,1,0)\\}$). The set of 3 vectors is linearly dependent if (at least) one of them can be written as a linear combination of the others."
   ]
  },
  {
   "cell_type": "markdown",
   "metadata": {},
   "source": [
    "# Basis & Dimension\n",
    "\n",
    "**Basis.** A set of *linearly independent* vectors that *spans a vector space* is a *basis* of that space."
   ]
  },
  {
   "cell_type": "markdown",
   "metadata": {
    "collapsed": true
   },
   "source": [
    "⚠️ *Lemma of Steinitz*\n",
    "\n",
    "Say $(\\mathbb{R},V,+)$ a vector space. Then:\n",
    "1. if a subset $\\subset V$ of $m$ elements exists that spans $V$, then every subset of $V$ with more than $m$ elements is linearly dependent;\n",
    "2. if a subset $\\subset V$ of $n$ elements exists that is linearly independent, then every subset of $V$ with less than $n$ elements cannot span $V$."
   ]
  },
  {
   "cell_type": "markdown",
   "metadata": {},
   "source": [
    "**Dimension.** The *dimension of a vector space* equals the *number of elements in a (finite) basis* for that vector space. (_Notation:_ $\\text{dim}_{\\mathbb{R}}V$)"
   ]
  },
  {
   "cell_type": "markdown",
   "metadata": {},
   "source": [
    "⚠️\n",
    "\n",
    "Say $(\\mathbb{R},V,+)$ a vector space of dimension $n$. Then:\n",
    "1. every linear independent subset $\\subset V$ can be extended to a basis of $V$;\n",
    "2. every finite subset $\\subset V$ that spans $V$ can be reduced (by removing vectors) to a basis of $V$."
   ]
  },
  {
   "cell_type": "code",
   "execution_count": null,
   "metadata": {
    "collapsed": true
   },
   "outputs": [],
   "source": []
  }
 ],
 "metadata": {
  "anaconda-cloud": {},
  "kernelspec": {
   "display_name": "Python [conda root]",
   "language": "python",
   "name": "conda-root-py"
  },
  "language_info": {
   "codemirror_mode": {
    "name": "ipython",
    "version": 3
   },
   "file_extension": ".py",
   "mimetype": "text/x-python",
   "name": "python",
   "nbconvert_exporter": "python",
   "pygments_lexer": "ipython3",
   "version": "3.5.2"
  }
 },
 "nbformat": 4,
 "nbformat_minor": 1
}
